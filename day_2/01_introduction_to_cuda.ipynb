{
 "cells": [
  {
   "cell_type": "code",
   "execution_count": null,
   "metadata": {
    "collapsed": true
   },
   "outputs": [],
   "source": [
    "from numba import cuda"
   ]
  },
  {
   "cell_type": "code",
   "execution_count": null,
   "metadata": {
    "collapsed": true
   },
   "outputs": [],
   "source": [
    "import numpy as np"
   ]
  },
  {
   "cell_type": "code",
   "execution_count": null,
   "metadata": {
    "collapsed": true
   },
   "outputs": [],
   "source": [
    "# Need two things - blocks per grid and threads per block"
   ]
  },
  {
   "cell_type": "code",
   "execution_count": null,
   "metadata": {
    "collapsed": true
   },
   "outputs": [],
   "source": [
    "# simple scalar addition"
   ]
  },
  {
   "cell_type": "code",
   "execution_count": null,
   "metadata": {
    "collapsed": true
   },
   "outputs": [],
   "source": [
    "@cuda.jit\n",
    "def myadd(x, y, z):\n",
    "    index = cuda.threadIdx.x\n",
    "    z[index] = x[index] + y[index]"
   ]
  },
  {
   "cell_type": "code",
   "execution_count": null,
   "metadata": {
    "collapsed": true
   },
   "outputs": [],
   "source": [
    "blockspergrid = 1\n",
    "threadsperblock = 1\n",
    "X = np.array([1])\n",
    "Y = np.array([2])\n",
    "Z = np.array([0])\n",
    "myadd[1, 1](X, Y, Z)"
   ]
  },
  {
   "cell_type": "code",
   "execution_count": null,
   "metadata": {},
   "outputs": [],
   "source": [
    "Z"
   ]
  },
  {
   "cell_type": "code",
   "execution_count": null,
   "metadata": {
    "collapsed": true
   },
   "outputs": [],
   "source": [
    "# Vector addition"
   ]
  },
  {
   "cell_type": "code",
   "execution_count": null,
   "metadata": {
    "collapsed": true
   },
   "outputs": [],
   "source": [
    "@cuda.jit\n",
    "def add_vectors(x, y, z):\n",
    "    ix = cuda.threadIdx.x\n",
    "    z[ix] = x[ix] + y[ix]"
   ]
  },
  {
   "cell_type": "code",
   "execution_count": null,
   "metadata": {
    "collapsed": true
   },
   "outputs": [],
   "source": [
    "threadsperblock = 8\n",
    "blockspergrid = 1"
   ]
  },
  {
   "cell_type": "code",
   "execution_count": null,
   "metadata": {},
   "outputs": [],
   "source": [
    "X = np.arange(1, 9)\n",
    "Y = np.ones((8,))\n",
    "Z = np.zeros((8,))\n",
    "add_vectors[blockspergrid, threadsperblock](X, Y, Z)\n",
    "print(Z)"
   ]
  },
  {
   "cell_type": "code",
   "execution_count": null,
   "metadata": {
    "collapsed": true
   },
   "outputs": [],
   "source": [
    "# try with a larger vector"
   ]
  },
  {
   "cell_type": "code",
   "execution_count": null,
   "metadata": {},
   "outputs": [],
   "source": [
    "X = np.arange(1, 17)\n",
    "Y = np.ones((16,))\n",
    "Z = np.zeros((16,))\n",
    "add_vectors[blockspergrid, threadsperblock](X, Y, Z)\n",
    "print(Z)"
   ]
  },
  {
   "cell_type": "code",
   "execution_count": null,
   "metadata": {
    "collapsed": true
   },
   "outputs": [],
   "source": [
    "# What went wrong?"
   ]
  },
  {
   "cell_type": "code",
   "execution_count": null,
   "metadata": {},
   "outputs": [],
   "source": [
    "threadsperblock = 16\n",
    "Z = np.zeros((16,))\n",
    "add_vectors[blockspergrid, threadsperblock](X, Y, Z)\n",
    "print(Z)"
   ]
  },
  {
   "cell_type": "code",
   "execution_count": null,
   "metadata": {},
   "outputs": [],
   "source": [
    "# reduce threadsperblock back and change blockspergrid\n",
    "threadsperblock = 8\n",
    "blockspergrid = 2\n",
    "Z = np.zeros((16,))\n",
    "add_vectors[blockspergrid, threadsperblock](X, Y, Z)\n",
    "print(Z)"
   ]
  },
  {
   "cell_type": "code",
   "execution_count": null,
   "metadata": {
    "collapsed": true
   },
   "outputs": [],
   "source": [
    "# what went wrong?"
   ]
  },
  {
   "cell_type": "code",
   "execution_count": null,
   "metadata": {
    "collapsed": true
   },
   "outputs": [],
   "source": [
    "@cuda.jit\n",
    "def add_blocked_vector(x, y, z):\n",
    "    ix = cuda.blockIdx.x * cuda.blockDim.x + cuda.threadIdx.x\n",
    "    z[ix] = x[ix] + y[ix]"
   ]
  },
  {
   "cell_type": "code",
   "execution_count": null,
   "metadata": {},
   "outputs": [],
   "source": [
    "Z = np.zeros((16,))\n",
    "add_blocked_vector[blockspergrid, threadsperblock](X, Y, Z)\n",
    "print(Z)"
   ]
  },
  {
   "cell_type": "code",
   "execution_count": null,
   "metadata": {
    "collapsed": true
   },
   "outputs": [],
   "source": [
    "# Adding 2d matrices!"
   ]
  },
  {
   "cell_type": "code",
   "execution_count": null,
   "metadata": {
    "collapsed": true
   },
   "outputs": [],
   "source": [
    "X = np.random.randint(0, 10, size=(8, 8))\n",
    "Y = np.random.randint(0, 10, size=(8, 8))"
   ]
  },
  {
   "cell_type": "code",
   "execution_count": null,
   "metadata": {
    "collapsed": true
   },
   "outputs": [],
   "source": [
    "@cuda.jit\n",
    "def mat_add(x, y, z):\n",
    "    ix = cuda.threadIdx.x\n",
    "    iy = cuda.threadIdx.y\n",
    "    z[ix, iy] = x[ix, iy] + y[ix, iy]"
   ]
  },
  {
   "cell_type": "code",
   "execution_count": null,
   "metadata": {},
   "outputs": [],
   "source": [
    "blockspergrid = 1\n",
    "threadsperblock = (8, 8)\n",
    "Z = np.zeros((8, 8))\n",
    "mat_add[blockspergrid, threadsperblock](X, Y, Z)\n",
    "print(Z)"
   ]
  },
  {
   "cell_type": "code",
   "execution_count": null,
   "metadata": {},
   "outputs": [],
   "source": [
    "print(X + Y)"
   ]
  },
  {
   "cell_type": "code",
   "execution_count": null,
   "metadata": {},
   "outputs": [],
   "source": [
    "# try again with 4 by 4 blocks!\n",
    "blockspergrid = 4\n",
    "threadsperblock = (4, 4)\n",
    "@cuda.jit\n",
    "def mat_add_blocked(x, y, z):\n",
    "    ix = cuda.blockIdx.x * cuda.blockDim.x + cuda.threadIdx.x\n",
    "    iy = cuda.blockIdx.y * cuda.blockDim.y + cuda.threadIdx.y\n",
    "    z[ix, iy] = x[ix, iy] + y[ix, iy]\n",
    "Z = np.zeros((8, 8))\n",
    "mat_add_blocked[blockspergrid, threadsperblock](X, Y, Z)\n",
    "print(Z.astype(int))"
   ]
  },
  {
   "cell_type": "code",
   "execution_count": null,
   "metadata": {
    "collapsed": true
   },
   "outputs": [],
   "source": [
    "# What went wrong?"
   ]
  },
  {
   "cell_type": "code",
   "execution_count": null,
   "metadata": {},
   "outputs": [],
   "source": [
    "blockspergrid = (2, 2)\n",
    "threadsperblock = (4, 4)\n",
    "@cuda.jit\n",
    "def mat_add_blocked(x, y, z):\n",
    "    ix = cuda.blockIdx.x * cuda.blockDim.x + cuda.threadIdx.x\n",
    "    iy = cuda.blockIdx.y * cuda.blockDim.y + cuda.threadIdx.y\n",
    "    z[ix, iy] = x[ix, iy] + y[ix, iy]\n",
    "Z = np.zeros((8, 8))\n",
    "mat_add_blocked[blockspergrid, threadsperblock](X, Y, Z)\n",
    "print(Z.astype(int))"
   ]
  },
  {
   "cell_type": "code",
   "execution_count": null,
   "metadata": {
    "collapsed": true
   },
   "outputs": [],
   "source": [
    "# Exercise: Try all this with different block, thread config!"
   ]
  },
  {
   "cell_type": "code",
   "execution_count": null,
   "metadata": {
    "collapsed": true
   },
   "outputs": [],
   "source": [
    "# Dot product of 1D vectors"
   ]
  },
  {
   "cell_type": "code",
   "execution_count": null,
   "metadata": {
    "collapsed": true
   },
   "outputs": [],
   "source": []
  },
  {
   "cell_type": "code",
   "execution_count": null,
   "metadata": {
    "collapsed": true
   },
   "outputs": [],
   "source": [
    "blockspergrid = 1\n",
    "threadsperblock = 8\n",
    "@cuda.jit\n",
    "def mydot(x, y, z):\n",
    "    ix = cuda.threadIdx.x\n",
    "    z[0] += x[ix] * y[ix]"
   ]
  },
  {
   "cell_type": "code",
   "execution_count": null,
   "metadata": {},
   "outputs": [],
   "source": [
    "X = np.ones((8,))\n",
    "Y = np.ones((8,))\n",
    "Z = np.zeros((1,))\n",
    "mydot[blockspergrid, threadsperblock](X, Y, Z)\n",
    "print(Z)"
   ]
  },
  {
   "cell_type": "code",
   "execution_count": null,
   "metadata": {
    "collapsed": true
   },
   "outputs": [],
   "source": [
    "# What went wrong?"
   ]
  },
  {
   "cell_type": "code",
   "execution_count": null,
   "metadata": {
    "collapsed": true
   },
   "outputs": [],
   "source": [
    "temp_Z = np.zeros((8,))\n",
    "@cuda.jit\n",
    "def mydot(x, y, temp_z):\n",
    "    ix = cuda.threadIdx.x\n",
    "    temp_z[ix] = x[ix] * y[ix]"
   ]
  },
  {
   "cell_type": "code",
   "execution_count": null,
   "metadata": {},
   "outputs": [],
   "source": [
    "X = np.ones((8,))\n",
    "Y = np.ones((8,))\n",
    "mydot[blockspergrid, threadsperblock](X, Y, temp_Z)\n",
    "print(temp_Z.sum())"
   ]
  },
  {
   "cell_type": "code",
   "execution_count": null,
   "metadata": {},
   "outputs": [],
   "source": [
    "# Single thread execution\n",
    "@cuda.jit\n",
    "def single_thread_dot(x, y, z):\n",
    "    z[0] = 0.\n",
    "    for i in range(x.shape[0]):\n",
    "        z[0] += x[i] * y[i]\n",
    "blockspergrid = 1\n",
    "threadsperblock = 1\n",
    "Z = np.zeros((1,))\n",
    "single_thread_dot[blockspergrid, threadsperblock](X, Y, Z)\n",
    "print(Z)"
   ]
  },
  {
   "cell_type": "code",
   "execution_count": null,
   "metadata": {
    "collapsed": true
   },
   "outputs": [],
   "source": [
    "# Matrix multiplication!"
   ]
  },
  {
   "cell_type": "code",
   "execution_count": null,
   "metadata": {},
   "outputs": [],
   "source": [
    "X = np.random.randint(0, 10, size=(3, 3))\n",
    "print(\"X:\\n\", X)\n",
    "Y = np.linalg.pinv(X)\n",
    "print(\"Y:\\n\", Y)\n",
    "print(\"X * Y:\\n\", np.dot(X, Y))"
   ]
  },
  {
   "cell_type": "code",
   "execution_count": null,
   "metadata": {
    "collapsed": true
   },
   "outputs": [],
   "source": [
    "blockspergrid = 1\n",
    "threadsperblock = (3, 3)\n",
    "@cuda.jit\n",
    "def mat_multiply(x, y, z):\n",
    "    ix = cuda.threadIdx.x\n",
    "    iy = cuda.threadIdx.y\n",
    "    xrow = x[ix, :]\n",
    "    ycol = y[:, iy]\n",
    "    for i in range(3):\n",
    "        z[ix, iy] += xrow[i] * ycol[i]"
   ]
  },
  {
   "cell_type": "code",
   "execution_count": null,
   "metadata": {
    "collapsed": true
   },
   "outputs": [],
   "source": [
    "Z = np.zeros((3, 3))\n",
    "mat_multiply[blockspergrid, threadsperblock](X, Y, Z)"
   ]
  },
  {
   "cell_type": "code",
   "execution_count": null,
   "metadata": {},
   "outputs": [],
   "source": [
    "Z"
   ]
  },
  {
   "cell_type": "code",
   "execution_count": null,
   "metadata": {
    "collapsed": true
   },
   "outputs": [],
   "source": [
    "# Exercise: Multiply two non-square matrices of size 3, 4 and 4, 5"
   ]
  }
 ],
 "metadata": {
  "kernelspec": {
   "display_name": "Python 3",
   "language": "python",
   "name": "python3"
  },
  "language_info": {
   "codemirror_mode": {
    "name": "ipython",
    "version": 3
   },
   "file_extension": ".py",
   "mimetype": "text/x-python",
   "name": "python",
   "nbconvert_exporter": "python",
   "pygments_lexer": "ipython3",
   "version": "3.6.2"
  }
 },
 "nbformat": 4,
 "nbformat_minor": 2
}
