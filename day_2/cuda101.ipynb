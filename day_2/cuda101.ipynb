{
 "cells": [
  {
   "cell_type": "code",
   "execution_count": 1,
   "metadata": {},
   "outputs": [],
   "source": [
    "from numba import cuda"
   ]
  },
  {
   "cell_type": "code",
   "execution_count": 2,
   "metadata": {},
   "outputs": [],
   "source": [
    "import numpy as np"
   ]
  },
  {
   "cell_type": "code",
   "execution_count": 21,
   "metadata": {},
   "outputs": [],
   "source": [
    "# Need two things - blocks per grid and threads per block"
   ]
  },
  {
   "cell_type": "code",
   "execution_count": 6,
   "metadata": {},
   "outputs": [],
   "source": [
    "# simple scalar addition"
   ]
  },
  {
   "cell_type": "code",
   "execution_count": 3,
   "metadata": {},
   "outputs": [],
   "source": [
    "@cuda.jit\n",
    "def myadd(x, y, z):\n",
    "    index = cuda.threadIdx.x\n",
    "    z[index] = x[index] + y[index]"
   ]
  },
  {
   "cell_type": "code",
   "execution_count": 4,
   "metadata": {},
   "outputs": [],
   "source": [
    "blockspergrid = 1\n",
    "threadsperblock = 1\n",
    "X = np.array([1])\n",
    "Y = np.array([2])\n",
    "Z = np.array([0])\n",
    "myadd[1, 1](X, Y, Z)"
   ]
  },
  {
   "cell_type": "code",
   "execution_count": 5,
   "metadata": {},
   "outputs": [
    {
     "data": {
      "text/plain": [
       "array([3])"
      ]
     },
     "execution_count": 5,
     "metadata": {},
     "output_type": "execute_result"
    }
   ],
   "source": [
    "Z"
   ]
  },
  {
   "cell_type": "code",
   "execution_count": 6,
   "metadata": {},
   "outputs": [],
   "source": [
    "# Vector addition"
   ]
  },
  {
   "cell_type": "code",
   "execution_count": 7,
   "metadata": {},
   "outputs": [],
   "source": [
    "@cuda.jit\n",
    "def add_vectors(x, y, z):\n",
    "    ix = cuda.threadIdx.x\n",
    "    z[ix] = x[ix] + y[ix]"
   ]
  },
  {
   "cell_type": "code",
   "execution_count": 8,
   "metadata": {},
   "outputs": [],
   "source": [
    "threadsperblock = 8\n",
    "blockspergrid = 1"
   ]
  },
  {
   "cell_type": "code",
   "execution_count": 10,
   "metadata": {},
   "outputs": [
    {
     "name": "stdout",
     "output_type": "stream",
     "text": [
      "[2. 3. 4. 5. 6. 7. 8. 9.]\n"
     ]
    }
   ],
   "source": [
    "X = np.arange(1, 9)\n",
    "Y = np.ones((8,))\n",
    "Z = np.zeros((8,))\n",
    "add_vectors[blockspergrid, threadsperblock](X, Y, Z)\n",
    "print(Z)"
   ]
  },
  {
   "cell_type": "code",
   "execution_count": 11,
   "metadata": {},
   "outputs": [],
   "source": [
    "# try with a larger vector"
   ]
  },
  {
   "cell_type": "code",
   "execution_count": 13,
   "metadata": {},
   "outputs": [
    {
     "name": "stdout",
     "output_type": "stream",
     "text": [
      "[2. 3. 4. 5. 6. 7. 8. 9. 0. 0. 0. 0. 0. 0. 0. 0.]\n"
     ]
    }
   ],
   "source": [
    "X = np.arange(1, 17)\n",
    "Y = np.ones((16,))\n",
    "Z = np.zeros((16,))\n",
    "add_vectors[blockspergrid, threadsperblock](X, Y, Z)\n",
    "print(Z)"
   ]
  },
  {
   "cell_type": "code",
   "execution_count": 19,
   "metadata": {},
   "outputs": [],
   "source": [
    "# What went wrong?"
   ]
  },
  {
   "cell_type": "code",
   "execution_count": 14,
   "metadata": {},
   "outputs": [
    {
     "name": "stdout",
     "output_type": "stream",
     "text": [
      "[ 2.  3.  4.  5.  6.  7.  8.  9. 10. 11. 12. 13. 14. 15. 16. 17.]\n"
     ]
    }
   ],
   "source": [
    "threadsperblock = 16\n",
    "Z = np.zeros((16,))\n",
    "add_vectors[blockspergrid, threadsperblock](X, Y, Z)\n",
    "print(Z)"
   ]
  },
  {
   "cell_type": "code",
   "execution_count": 15,
   "metadata": {},
   "outputs": [
    {
     "name": "stdout",
     "output_type": "stream",
     "text": [
      "[2. 3. 4. 5. 6. 7. 8. 9. 0. 0. 0. 0. 0. 0. 0. 0.]\n"
     ]
    }
   ],
   "source": [
    "# reduce threadsperblock back and change blockspergrid\n",
    "threadsperblock = 8\n",
    "blockspergrid = 2\n",
    "Z = np.zeros((16,))\n",
    "add_vectors[blockspergrid, threadsperblock](X, Y, Z)\n",
    "print(Z)"
   ]
  },
  {
   "cell_type": "code",
   "execution_count": 26,
   "metadata": {},
   "outputs": [],
   "source": [
    "# what went wrong?"
   ]
  },
  {
   "cell_type": "code",
   "execution_count": 16,
   "metadata": {},
   "outputs": [],
   "source": [
    "@cuda.jit\n",
    "def add_blocked_vector(x, y, z):\n",
    "    ix = cuda.blockIdx.x * cuda.blockDim.x + cuda.threadIdx.x\n",
    "    z[ix] = x[ix] + y[ix]"
   ]
  },
  {
   "cell_type": "code",
   "execution_count": 18,
   "metadata": {},
   "outputs": [
    {
     "name": "stdout",
     "output_type": "stream",
     "text": [
      "[ 2.  3.  4.  5.  6.  7.  8.  9. 10. 11. 12. 13. 14. 15. 16. 17.]\n"
     ]
    }
   ],
   "source": [
    "Z = np.zeros((16,))\n",
    "add_blocked_vector[blockspergrid, threadsperblock](X, Y, Z)\n",
    "print(Z)"
   ]
  },
  {
   "cell_type": "code",
   "execution_count": 19,
   "metadata": {},
   "outputs": [],
   "source": [
    "# Adding 2d matrices!"
   ]
  },
  {
   "cell_type": "code",
   "execution_count": 20,
   "metadata": {},
   "outputs": [],
   "source": [
    "X = np.random.randint(0, 10, size=(8, 8))\n",
    "Y = np.random.randint(0, 10, size=(8, 8))"
   ]
  },
  {
   "cell_type": "code",
   "execution_count": 21,
   "metadata": {},
   "outputs": [],
   "source": [
    "@cuda.jit\n",
    "def mat_add(x, y, z):\n",
    "    ix = cuda.threadIdx.x\n",
    "    iy = cuda.threadIdx.y\n",
    "    z[ix, iy] = x[ix, iy] + y[ix, iy]"
   ]
  },
  {
   "cell_type": "code",
   "execution_count": 22,
   "metadata": {},
   "outputs": [
    {
     "name": "stdout",
     "output_type": "stream",
     "text": [
      "[[15. 11.  7.  7. 13. 13. 13. 10.]\n",
      " [ 5. 14.  7.  9.  8. 13. 14. 10.]\n",
      " [11.  2.  5.  9. 13. 14.  7.  9.]\n",
      " [12. 10.  5. 11.  1. 11.  2. 12.]\n",
      " [ 6. 15. 12. 10. 16.  9. 12. 18.]\n",
      " [ 1.  6.  2.  6. 14.  2. 13.  1.]\n",
      " [17. 13. 15.  4.  5.  8. 15.  8.]\n",
      " [16. 11.  7.  8.  6.  3.  6.  1.]]\n"
     ]
    }
   ],
   "source": [
    "blockspergrid = 1\n",
    "threadsperblock = (8, 8)\n",
    "Z = np.zeros((8, 8))\n",
    "mat_add[blockspergrid, threadsperblock](X, Y, Z)\n",
    "print(Z)"
   ]
  },
  {
   "cell_type": "code",
   "execution_count": 23,
   "metadata": {},
   "outputs": [
    {
     "name": "stdout",
     "output_type": "stream",
     "text": [
      "[[15 11  7  7 13 13 13 10]\n",
      " [ 5 14  7  9  8 13 14 10]\n",
      " [11  2  5  9 13 14  7  9]\n",
      " [12 10  5 11  1 11  2 12]\n",
      " [ 6 15 12 10 16  9 12 18]\n",
      " [ 1  6  2  6 14  2 13  1]\n",
      " [17 13 15  4  5  8 15  8]\n",
      " [16 11  7  8  6  3  6  1]]\n"
     ]
    }
   ],
   "source": [
    "print(X + Y)"
   ]
  },
  {
   "cell_type": "code",
   "execution_count": 24,
   "metadata": {},
   "outputs": [
    {
     "name": "stdout",
     "output_type": "stream",
     "text": [
      "[[15 11  7  7  0  0  0  0]\n",
      " [ 5 14  7  9  0  0  0  0]\n",
      " [11  2  5  9  0  0  0  0]\n",
      " [12 10  5 11  0  0  0  0]\n",
      " [ 6 15 12 10  0  0  0  0]\n",
      " [ 1  6  2  6  0  0  0  0]\n",
      " [17 13 15  4  0  0  0  0]\n",
      " [16 11  7  8  0  0  0  0]]\n"
     ]
    }
   ],
   "source": [
    "# try again with 4 by 4 blocks!\n",
    "blockspergrid = 4\n",
    "threadsperblock = (4, 4)\n",
    "@cuda.jit\n",
    "def mat_add_blocked(x, y, z):\n",
    "    ix = cuda.blockIdx.x * cuda.blockDim.x + cuda.threadIdx.x\n",
    "    iy = cuda.blockIdx.y * cuda.blockDim.y + cuda.threadIdx.y\n",
    "    z[ix, iy] = x[ix, iy] + y[ix, iy]\n",
    "Z = np.zeros((8, 8))\n",
    "mat_add_blocked[blockspergrid, threadsperblock](X, Y, Z)\n",
    "print(Z.astype(int))"
   ]
  },
  {
   "cell_type": "code",
   "execution_count": 37,
   "metadata": {},
   "outputs": [],
   "source": [
    "# What went wrong?"
   ]
  },
  {
   "cell_type": "code",
   "execution_count": 26,
   "metadata": {},
   "outputs": [
    {
     "name": "stdout",
     "output_type": "stream",
     "text": [
      "[[15 11  7  7 13 13 13 10]\n",
      " [ 5 14  7  9  8 13 14 10]\n",
      " [11  2  5  9 13 14  7  9]\n",
      " [12 10  5 11  1 11  2 12]\n",
      " [ 6 15 12 10 16  9 12 18]\n",
      " [ 1  6  2  6 14  2 13  1]\n",
      " [17 13 15  4  5  8 15  8]\n",
      " [16 11  7  8  6  3  6  1]]\n"
     ]
    }
   ],
   "source": [
    "blockspergrid = (2, 2)\n",
    "threadsperblock = (4, 4)\n",
    "@cuda.jit\n",
    "def mat_add_blocked(x, y, z):\n",
    "    ix = cuda.blockIdx.x * cuda.blockDim.x + cuda.threadIdx.x\n",
    "    iy = cuda.blockIdx.y * cuda.blockDim.y + cuda.threadIdx.y\n",
    "    z[ix, iy] = x[ix, iy] + y[ix, iy]\n",
    "Z = np.zeros((8, 8))\n",
    "mat_add_blocked[blockspergrid, threadsperblock](X, Y, Z)\n",
    "print(Z.astype(int))"
   ]
  },
  {
   "cell_type": "code",
   "execution_count": 27,
   "metadata": {},
   "outputs": [],
   "source": [
    "# Exercise: Try all this with different block, thread config!"
   ]
  },
  {
   "cell_type": "code",
   "execution_count": 28,
   "metadata": {},
   "outputs": [],
   "source": [
    "# Dot product of 1D vectors"
   ]
  },
  {
   "cell_type": "code",
   "execution_count": null,
   "metadata": {},
   "outputs": [],
   "source": []
  },
  {
   "cell_type": "code",
   "execution_count": 29,
   "metadata": {},
   "outputs": [],
   "source": [
    "blockspergrid = 1\n",
    "threadsperblock = 8\n",
    "@cuda.jit\n",
    "def mydot(x, y, z):\n",
    "    ix = cuda.threadIdx.x\n",
    "    z[0] += x[ix] * y[ix]"
   ]
  },
  {
   "cell_type": "code",
   "execution_count": 30,
   "metadata": {},
   "outputs": [
    {
     "name": "stdout",
     "output_type": "stream",
     "text": [
      "[1.]\n"
     ]
    }
   ],
   "source": [
    "X = np.ones((8,))\n",
    "Y = np.ones((8,))\n",
    "Z = np.zeros((1,))\n",
    "mydot[blockspergrid, threadsperblock](X, Y, Z)\n",
    "print(Z)"
   ]
  },
  {
   "cell_type": "code",
   "execution_count": 68,
   "metadata": {},
   "outputs": [],
   "source": [
    "# What went wrong?"
   ]
  },
  {
   "cell_type": "code",
   "execution_count": 31,
   "metadata": {},
   "outputs": [],
   "source": [
    "temp_Z = np.zeros((8,))\n",
    "@cuda.jit\n",
    "def mydot(x, y, temp_z):\n",
    "    ix = cuda.threadIdx.x\n",
    "    temp_z[ix] = x[ix] * y[ix]"
   ]
  },
  {
   "cell_type": "code",
   "execution_count": 32,
   "metadata": {},
   "outputs": [
    {
     "name": "stdout",
     "output_type": "stream",
     "text": [
      "8.0\n"
     ]
    }
   ],
   "source": [
    "X = np.ones((8,))\n",
    "Y = np.ones((8,))\n",
    "mydot[blockspergrid, threadsperblock](X, Y, temp_Z)\n",
    "print(temp_Z.sum())"
   ]
  },
  {
   "cell_type": "code",
   "execution_count": 33,
   "metadata": {},
   "outputs": [
    {
     "name": "stdout",
     "output_type": "stream",
     "text": [
      "[8.]\n"
     ]
    }
   ],
   "source": [
    "# Single thread execution\n",
    "@cuda.jit\n",
    "def single_thread_dot(x, y, z):\n",
    "    z[0] = 0.\n",
    "    for i in range(x.shape[0]):\n",
    "        z[0] += x[i] * y[i]\n",
    "blockspergrid = 1\n",
    "threadsperblock = 1\n",
    "Z = np.zeros((1,))\n",
    "single_thread_dot[blockspergrid, threadsperblock](X, Y, Z)\n",
    "print(Z)"
   ]
  },
  {
   "cell_type": "code",
   "execution_count": 34,
   "metadata": {},
   "outputs": [],
   "source": [
    "# Matrix multiplication!"
   ]
  },
  {
   "cell_type": "code",
   "execution_count": 37,
   "metadata": {},
   "outputs": [
    {
     "name": "stdout",
     "output_type": "stream",
     "text": [
      "X:\n",
      " [[7 3 2]\n",
      " [3 2 5]\n",
      " [7 6 7]]\n",
      "Y:\n",
      " [[ 0.25806452  0.14516129 -0.17741935]\n",
      " [-0.22580645 -0.56451613  0.46774194]\n",
      " [-0.06451613  0.33870968 -0.08064516]]\n",
      "X * Y:\n",
      " [[ 1.00000000e+00  3.33066907e-16 -1.11022302e-16]\n",
      " [-1.11022302e-16  1.00000000e+00  2.77555756e-16]\n",
      " [ 3.88578059e-16  2.77555756e-16  1.00000000e+00]]\n"
     ]
    }
   ],
   "source": [
    "X = np.random.randint(0, 10, size=(3, 3))\n",
    "print(\"X:\\n\", X)\n",
    "Y = np.linalg.pinv(X)\n",
    "print(\"Y:\\n\", Y)\n",
    "print(\"X * Y:\\n\", np.dot(X, Y))"
   ]
  },
  {
   "cell_type": "code",
   "execution_count": 38,
   "metadata": {},
   "outputs": [],
   "source": [
    "blockspergrid = 1\n",
    "threadsperblock = (3, 3)\n",
    "@cuda.jit\n",
    "def mat_multiply(x, y, z):\n",
    "    ix = cuda.threadIdx.x\n",
    "    iy = cuda.threadIdx.y\n",
    "    xrow = x[ix, :]\n",
    "    ycol = y[:, iy]\n",
    "    for i in range(3):\n",
    "        z[ix, iy] += xrow[i] * ycol[i]"
   ]
  },
  {
   "cell_type": "code",
   "execution_count": 43,
   "metadata": {},
   "outputs": [],
   "source": [
    "Z = np.zeros((3, 3))\n",
    "mat_multiply[blockspergrid, threadsperblock](X, Y, Z)"
   ]
  },
  {
   "cell_type": "code",
   "execution_count": 44,
   "metadata": {},
   "outputs": [
    {
     "data": {
      "text/plain": [
       "array([[ 1.00000000e+00,  2.22044605e-16, -1.11022302e-16],\n",
       "       [-1.11022302e-16,  1.00000000e+00,  2.77555756e-16],\n",
       "       [ 3.33066907e-16, -1.66533454e-16,  1.00000000e+00]])"
      ]
     },
     "execution_count": 44,
     "metadata": {},
     "output_type": "execute_result"
    }
   ],
   "source": [
    "Z"
   ]
  },
  {
   "cell_type": "code",
   "execution_count": 45,
   "metadata": {},
   "outputs": [],
   "source": [
    "# Exercise: Multiply two non-square matrices of size 3, 4 and 4, 5"
   ]
  }
 ],
 "metadata": {
  "kernelspec": {
   "display_name": "Python 3",
   "language": "python",
   "name": "python3"
  },
  "language_info": {
   "codemirror_mode": {
    "name": "ipython",
    "version": 3
   },
   "file_extension": ".py",
   "mimetype": "text/x-python",
   "name": "python",
   "nbconvert_exporter": "python",
   "pygments_lexer": "ipython3",
   "version": "3.6.3"
  }
 },
 "nbformat": 4,
 "nbformat_minor": 2
}
