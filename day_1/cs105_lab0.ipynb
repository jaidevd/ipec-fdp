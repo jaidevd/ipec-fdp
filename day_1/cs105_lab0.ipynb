{
 "cells": [
  {
   "cell_type": "markdown",
   "metadata": {},
   "source": [
    "<a rel=\"license\" href=\"http://creativecommons.org/licenses/by-nc-nd/4.0/\"><img alt=\"Creative Commons License\" style=\"border-width:0\" src=\"https://i.creativecommons.org/l/by-nc-nd/4.0/88x31.png\" /></a><br />This work is licensed under a <a rel=\"license\" href=\"http://creativecommons.org/licenses/by-nc-nd/4.0/\">Creative Commons Attribution-NonCommercial-NoDerivatives 4.0 International License</a>."
   ]
  },
  {
   "cell_type": "markdown",
   "metadata": {},
   "source": [
    "#![Spark Logo](http://spark-mooc.github.io/web-assets/images/ta_Spark-logo-small.png) + ![Python Logo](http://spark-mooc.github.io/web-assets/images/python-logo-master-v3-TM-flattened_small.png)\n",
    "# **Running Your First Notebook**\n",
    "This notebook will show you how to install the course libraries, create your first Spark cluster, and test basic notebook functionality.  To move through the notebook just run each of the cells.  You will not need to solve any problems to complete this lab.  You can run a cell by pressing \"shift-enter\", which will compute the current cell and advance to the next cell, or by clicking in a cell and pressing \"control-enter\", which will compute the current cell and remain in that cell.\n",
    "\n",
    "** This notebook covers: **\n",
    "* *Part 1:* Attach class helper library\n",
    "* *Part 2:* Test Spark functionality\n",
    "* *Part 3:* Test class helper library\n",
    "* *Part 4:* Check plotting\n",
    "* *Part 5:* Check MathJax formulas"
   ]
  },
  {
   "cell_type": "markdown",
   "metadata": {},
   "source": [
    "#### ** Part 1: Attach and test class helper library **"
   ]
  },
  {
   "cell_type": "markdown",
   "metadata": {},
   "source": [
    "#### (1a) Install class helper library into your Databricks CE workspace\n",
    "- The class helper library \"spark_mooc_meta\" is published in the [PyPI Python Package repository](https://pypi.python.org/pypi) as [https://pypi.python.org/pypi/spark_mooc_meta](https://pypi.python.org/pypi/spark_mooc_meta)\n",
    "- You can install the library into your workspace following the following instructions:\n",
    " - Step 1: Click on \"Workspace\", then on the dropdown and select \"Create\" and \"Library\"\n",
    "\n",
    "<img src=\"http://spark-mooc.github.io/web-assets/images/Lab0_Library1.png\" alt=\"Drawing\" />\n",
    " - Step 2 Enter the name of the library by selecting \"Upload Python Egg or PyPI\" and entering \"spark_mooc_meta\" in the \"PyPI Name\" field\n",
    "\n",
    "<img src=\"http://spark-mooc.github.io/web-assets/images/Lab0_Library2.png\" alt=\"Drawing\" />\n",
    " - Step 3 Make sure the checkbox for auto-attaching the library to your cluster is selected\n",
    "\n",
    "<img src=\"http://spark-mooc.github.io/web-assets/images/Lab0_Library3.png\" alt=\"Drawing\" />"
   ]
  },
  {
   "cell_type": "markdown",
   "metadata": {},
   "source": [
    "#### ** Part 1: Test Spark functionality **"
   ]
  },
  {
   "cell_type": "markdown",
   "metadata": {},
   "source": [
    "** (1a) Create a DataFrame and filter it **\n",
    "\n",
    "When you run the next cell (with control-enter or shift-enter), you will see the following popup.\n",
    "\n",
    "<img src=\"http://spark-mooc.github.io/web-assets/images/Lab0_Cluster.png\" alt=\"Drawing\" />\n",
    "\n",
    "Select the click box and then \"Launch and Run\". The display at the top of your notebook will change to \"Pending\"\n",
    "\n",
    "<img src=\"http://spark-mooc.github.io/web-assets/images/Lab0_Cluster_Pending.png\" alt=\"Drawing\" />\n",
    "\n",
    "Note that it may take a few seconds to a few minutes to start your cluster. Once your cluster is running the display will changed to \"Attached\"\n",
    "\n",
    "<img src=\"http://spark-mooc.github.io/web-assets/images/Lab0_Cluster_Attached.png\" alt=\"Drawing\" />\n",
    "\n",
    "Congratulations! You just launched your Spark cluster in the cloud!"
   ]
  },
  {
   "cell_type": "code",
   "execution_count": 2,
   "metadata": {},
   "outputs": [
    {
     "name": "stdout",
     "output_type": "stream",
     "text": [
      "[Row(name='Bill', age=4)]\n"
     ]
    }
   ],
   "source": [
    "# Check that Spark is working\n",
    "from pyspark.sql import Row\n",
    "data = [('Alice', 1), ('Bob', 2), ('Bill', 4)]\n",
    "df = sqlContext.createDataFrame(data, ['name', 'age'])\n",
    "fil = df.filter(df.age > 3).collect()\n",
    "print(fil)\n",
    "\n",
    "# If the Spark job doesn't work properly this will raise an AssertionError\n",
    "assert fil == [Row(u'Bill', 4)]"
   ]
  },
  {
   "cell_type": "code",
   "execution_count": 6,
   "metadata": {},
   "outputs": [],
   "source": [
    "df.head?"
   ]
  },
  {
   "cell_type": "markdown",
   "metadata": {},
   "source": [
    "** (2b) Loading a text file **\n",
    "\n",
    "Let's load a text file."
   ]
  },
  {
   "cell_type": "code",
   "execution_count": 9,
   "metadata": {},
   "outputs": [
    {
     "name": "stdout",
     "output_type": "stream",
     "text": [
      "124456\n"
     ]
    }
   ],
   "source": [
    "# Check loading data with sqlContext.read.text\n",
    "import os\n",
    "baseDir = os.getcwd()\n",
    "inputPath = 'shakespeare.txt'\n",
    "fileName = os.path.join(baseDir, inputPath)\n",
    "\n",
    "dataDF = sqlContext.read.text(fileName)\n",
    "shakespeareCount = dataDF.count()\n",
    "\n",
    "print(shakespeareCount)"
   ]
  },
  {
   "cell_type": "code",
   "execution_count": 12,
   "metadata": {},
   "outputs": [
    {
     "data": {
      "text/plain": [
       "[Row(value='This is the 100th Etext file presented by Project Gutenberg, and'),\n",
       " Row(value='is presented in cooperation with World Library, Inc., from their'),\n",
       " Row(value='Library of the Future and Shakespeare CDROMS.  Project Gutenberg'),\n",
       " Row(value='often releases Etexts that are NOT placed in the Public Domain!!'),\n",
       " Row(value=''),\n",
       " Row(value='Shakespeare'),\n",
       " Row(value=''),\n",
       " Row(value='*This Etext has certain copyright implications you should read!*'),\n",
       " Row(value=''),\n",
       " Row(value='<<THIS ELECTRONIC VERSION OF THE COMPLETE WORKS OF WILLIAM')]"
      ]
     },
     "execution_count": 12,
     "metadata": {},
     "output_type": "execute_result"
    }
   ],
   "source": [
    "dataDF.head(10)"
   ]
  },
  {
   "cell_type": "markdown",
   "metadata": {},
   "source": [
    "#### ** Part 3: Test class testing library **"
   ]
  },
  {
   "cell_type": "markdown",
   "metadata": {},
   "source": [
    "** (3a) Compare with hash **\n",
    "\n",
    "Run the following cell. If you see an **ImportError**, you should verify that you added the spark_mooc_meta library to your cluster and, if necessary, repeat step (1a).\n",
    "\n",
    "<img src=\"http://spark-mooc.github.io/web-assets/images/Lab0_LibraryError.png\" alt=\"Drawing\"  style=\"width: 600px;\"/>"
   ]
  },
  {
   "cell_type": "markdown",
   "metadata": {},
   "source": [
    "** (3b) Compare lists **"
   ]
  },
  {
   "cell_type": "markdown",
   "metadata": {},
   "source": [
    "#### ** Part 4: Check plotting **"
   ]
  },
  {
   "cell_type": "markdown",
   "metadata": {},
   "source": [
    "** (3a) Our first plot **\n",
    "\n",
    "After executing the code cell below, you should see a plot with 50 blue circles.  The circles should start at the bottom left and end at the top right."
   ]
  },
  {
   "cell_type": "code",
   "execution_count": 13,
   "metadata": {},
   "outputs": [
    {
     "data": {
      "image/png": "[encoded data removed]",
      "text/plain": [
       "<matplotlib.figure.Figure at 0x110b21f60>"
      ]
     },
     "metadata": {},
     "output_type": "display_data"
    }
   ],
   "source": [
    "# Check matplotlib plotting\n",
    "import matplotlib.pyplot as plt\n",
    "import matplotlib.cm as cm\n",
    "from math import log\n",
    "\n",
    "# function for generating plot layout\n",
    "def preparePlot(xticks, yticks, figsize=(10.5, 6), hideLabels=False, gridColor='#999999', gridWidth=1.0):\n",
    "    plt.close()\n",
    "    fig, ax = plt.subplots(figsize=figsize, facecolor='white', edgecolor='white')\n",
    "    ax.axes.tick_params(labelcolor='#999999', labelsize='10')\n",
    "    for axis, ticks in [(ax.get_xaxis(), xticks), (ax.get_yaxis(), yticks)]:\n",
    "        axis.set_ticks_position('none')\n",
    "        axis.set_ticks(ticks)\n",
    "        axis.label.set_color('#999999')\n",
    "        if hideLabels: axis.set_ticklabels([])\n",
    "    plt.grid(color=gridColor, linewidth=gridWidth, linestyle='-')\n",
    "    map(lambda position: ax.spines[position].set_visible(False), ['bottom', 'top', 'left', 'right'])\n",
    "    return fig, ax\n",
    "\n",
    "# generate layout and plot data\n",
    "x = range(1, 50)\n",
    "y = [log(x1 ** 2) for x1 in x]\n",
    "fig, ax = preparePlot(range(5, 60, 10), range(0, 12, 1))\n",
    "plt.scatter(x, y, s=14**2, c='#d6ebf2', edgecolors='#8cbfd0', alpha=0.75)\n",
    "ax.set_xlabel(r'$range(1, 50)$'), ax.set_ylabel(r'$\\log_e(x^2)$')\n",
    "display(fig)\n",
    "pass"
   ]
  },
  {
   "cell_type": "markdown",
   "metadata": {},
   "source": [
    "#### ** Part 5: Check MathJax formulas **"
   ]
  },
  {
   "cell_type": "markdown",
   "metadata": {},
   "source": [
    "** (5a) Gradient descent formula **\n",
    "\n",
    "You should see a formula on the line below this one: \\\\[ \\scriptsize \\mathbf{w}_{i+1} = \\mathbf{w}_i - \\alpha_i \\sum_j (\\mathbf{w}_i^\\top\\mathbf{x}_j  - y_j) \\mathbf{x}_j \\,.\\\\]\n",
    "\n",
    "This formula is included inline with the text and is \\\\( \\scriptsize (\\mathbf{w}^\\top \\mathbf{x} - y) \\mathbf{x} \\\\)."
   ]
  },
  {
   "cell_type": "markdown",
   "metadata": {},
   "source": [
    "** (5b) Log loss formula **\n",
    "\n",
    "This formula shows log loss for single point. Log loss is defined as: \\\\[  \\scriptsize \\ell_{log}(p, y) = \\begin{cases} -\\log (p) & \\text{if } y = 1 \\\\\\ -\\log(1-p) & \\text{if } y = 0 \\end{cases} \\\\]"
   ]
  },
  {
   "cell_type": "markdown",
   "metadata": {},
   "source": [
    "You have completed the lab!\n",
    "\n",
    "Return to the edX website and proceed with the page for registering with the autograder."
   ]
  },
  {
   "cell_type": "code",
   "execution_count": 22,
   "metadata": {
    "collapsed": true
   },
   "outputs": [],
   "source": []
  }
 ],
 "metadata": {
  "kernelspec": {
   "display_name": "Python 3",
   "language": "python",
   "name": "python3"
  },
  "language_info": {
   "codemirror_mode": {
    "name": "ipython",
    "version": 3
   },
   "file_extension": ".py",
   "mimetype": "text/x-python",
   "name": "python",
   "nbconvert_exporter": "python",
   "pygments_lexer": "ipython3",
   "version": "3.6.2"
  },
  "name": "cs105_lab0",
  "notebookId": 3250914040613512
 },
 "nbformat": 4,
 "nbformat_minor": 1
}
