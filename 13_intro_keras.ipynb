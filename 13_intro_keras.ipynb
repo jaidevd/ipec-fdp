{
 "cells": [
  {
   "cell_type": "code",
   "execution_count": null,
   "metadata": {},
   "outputs": [],
   "source": [
    "import os\n",
    "os.environ['KERAS_BACKEND'] = \"theano\"\n",
    "from keras.models import Sequential\n",
    "from keras.layers import Dense, Activation\n",
    "from keras.optimizers import SGD, RMSprop\n",
    "from sklearn.metrics import accuracy_score\n",
    "from sklearn.datasets import load_digits\n",
    "from sklearn.preprocessing import OneHotEncoder\n",
    "import numpy as np\n",
    "from utils import backprop_decision_boundary, backprop_make_classification, backprop_make_moons\n",
    "import matplotlib.pyplot as plt\n",
    "plt.style.use('ggplot')\n",
    "plt.rc('figure', figsize=(8, 6))\n",
    "%matplotlib inline"
   ]
  },
  {
   "cell_type": "markdown",
   "metadata": {},
   "source": [
    "# Getting started with the Keras Sequential model\n",
    "\n",
    "## The Sequential model is a linear stack of layers."
   ]
  },
  {
   "cell_type": "code",
   "execution_count": null,
   "metadata": {},
   "outputs": [],
   "source": [
    "# simulate data\n",
    "X, Y = backprop_make_classification()\n",
    "plt.scatter(X[:, 0], X[:, 1], c=Y.argmax(1))"
   ]
  },
  {
   "cell_type": "markdown",
   "metadata": {},
   "source": [
    "## Same neural network architecture as before, but now in keras:\n",
    "### 1. Input layer has two neurons\n",
    "### 2. Hidden layer has three neurons\n",
    "### 3. Output layer has two neurons"
   ]
  },
  {
   "cell_type": "code",
   "execution_count": null,
   "metadata": {
    "collapsed": true
   },
   "outputs": [],
   "source": [
    "model = Sequential()\n",
    "model.add(Dense(3, input_dim=2)) # input layer is implicit\n",
    "model.add(Activation('sigmoid'))\n",
    "model.add(Dense(2)) # input dimensions are inferred\n",
    "model.add(Activation('sigmoid'))"
   ]
  },
  {
   "cell_type": "code",
   "execution_count": null,
   "metadata": {
    "collapsed": true
   },
   "outputs": [],
   "source": [
    "l0 = model.layers[0]"
   ]
  },
  {
   "cell_type": "code",
   "execution_count": null,
   "metadata": {},
   "outputs": [],
   "source": [
    "l0.input_shape"
   ]
  },
  {
   "cell_type": "markdown",
   "metadata": {},
   "source": [
    "## Compilation Step:"
   ]
  },
  {
   "cell_type": "code",
   "execution_count": null,
   "metadata": {
    "collapsed": true
   },
   "outputs": [],
   "source": [
    "sgd = SGD(lr=0.1)\n",
    "model.compile(optimizer=sgd, loss=\"binary_crossentropy\", metrics=['accuracy'])"
   ]
  },
  {
   "cell_type": "markdown",
   "metadata": {},
   "source": [
    "## Training:"
   ]
  },
  {
   "cell_type": "code",
   "execution_count": null,
   "metadata": {},
   "outputs": [],
   "source": [
    "model.fit(X, Y)"
   ]
  },
  {
   "cell_type": "code",
   "execution_count": null,
   "metadata": {},
   "outputs": [],
   "source": [
    "# make dummy data\n",
    "backprop_decision_boundary(model.predict, X, Y)\n",
    "y_hat = model.predict(X)\n",
    "print(\"Accuracy: \", accuracy_score(np.argmax(Y, axis=1), np.argmax(y_hat, axis=1)))"
   ]
  },
  {
   "cell_type": "markdown",
   "metadata": {},
   "source": [
    "# Q: What went wrong?"
   ]
  },
  {
   "cell_type": "code",
   "execution_count": null,
   "metadata": {},
   "outputs": [],
   "source": [
    "model = Sequential()\n",
    "model.add(Dense(3, input_dim=2)) # input layer is implicit\n",
    "model.add(Activation('sigmoid'))\n",
    "model.add(Dense(2)) # input dimensions are inferred\n",
    "model.add(Activation('sigmoid'))\n",
    "# Why design the NN again?\n",
    "model.compile(optimizer=sgd, loss=\"binary_crossentropy\", metrics=['accuracy'])\n",
    "model.fit(X, Y, epochs=10000, verbose=0)\n",
    "backprop_decision_boundary(model.predict, X, Y)\n",
    "y_hat = model.predict(X)\n",
    "print(\"Accuracy: \", accuracy_score(np.argmax(Y, axis=1), np.argmax(y_hat, axis=1)))"
   ]
  },
  {
   "cell_type": "markdown",
   "metadata": {},
   "source": [
    "# Q: How do we reduce epochs?"
   ]
  },
  {
   "cell_type": "code",
   "execution_count": null,
   "metadata": {},
   "outputs": [],
   "source": [
    "model = Sequential()\n",
    "model.add(Dense(3, input_dim=2)) # input layer is implicit\n",
    "model.add(Activation('sigmoid'))\n",
    "model.add(Dense(2)) # input dimensions are inferred\n",
    "model.add(Activation('sigmoid'))\n",
    "sgd.lr = 0.4\n",
    "model.compile(optimizer=sgd, loss=\"binary_crossentropy\", metrics=['accuracy'])\n",
    "model.fit(X, Y, epochs=1000, verbose=0)\n",
    "backprop_decision_boundary(model.predict, X, Y)\n",
    "y_hat = model.predict(X)\n",
    "print(\"Accuracy: \", accuracy_score(np.argmax(Y, axis=1), np.argmax(y_hat, axis=1)))"
   ]
  },
  {
   "cell_type": "markdown",
   "metadata": {},
   "source": [
    "## Exercise: Make a neural network to classify MNIST data\n",
    "## Hints: \n",
    "### 1. Two hidden layers, first of size 128, second of size 64.\n",
    "### 2. Use \"categorical_crossentropy\" loss function\n",
    "### 3. Use the RMSprop optimizer"
   ]
  },
  {
   "cell_type": "code",
   "execution_count": null,
   "metadata": {},
   "outputs": [],
   "source": [
    "digits = load_digits()\n",
    "X = digits.data\n",
    "X /= 255\n",
    "y = digits.target\n",
    "y = OneHotEncoder().fit_transform(y.reshape(-1, 1))  # What is this?\n",
    "y = y.todense()\n",
    "print(X.shape)"
   ]
  },
  {
   "cell_type": "code",
   "execution_count": null,
   "metadata": {},
   "outputs": [],
   "source": [
    "# enter code here\n",
    "# create a Sequential model\n",
    "# Add the three layers and their activations\n",
    "# compile the model with the RMSprop optimizer and the loss\n",
    "# Train the model\n",
    "# compute the accuracy"
   ]
  }
 ],
 "metadata": {
  "anaconda-cloud": {},
  "kernelspec": {
   "display_name": "Python 3",
   "language": "python",
   "name": "python3"
  },
  "language_info": {
   "codemirror_mode": {
    "name": "ipython",
    "version": 3
   },
   "file_extension": ".py",
   "mimetype": "text/x-python",
   "name": "python",
   "nbconvert_exporter": "python",
   "pygments_lexer": "ipython3",
   "version": "3.6.1"
  }
 },
 "nbformat": 4,
 "nbformat_minor": 1
}
